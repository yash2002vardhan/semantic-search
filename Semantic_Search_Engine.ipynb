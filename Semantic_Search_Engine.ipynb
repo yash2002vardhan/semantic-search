{
  "nbformat": 4,
  "nbformat_minor": 0,
  "metadata": {
    "colab": {
      "provenance": []
    },
    "kernelspec": {
      "name": "python3",
      "display_name": "Python 3"
    },
    "language_info": {
      "name": "python"
    }
  },
  "cells": [
    {
      "cell_type": "code",
      "source": [
        "!pip install txtai gradio # installing the necessary libraries"
      ],
      "metadata": {
        "id": "H-y50RozNFmS"
      },
      "execution_count": null,
      "outputs": []
    },
    {
      "cell_type": "code",
      "source": [
        "from txtai.embeddings import Embeddings # importing the necessar libraries\n",
        "import gradio"
      ],
      "metadata": {
        "id": "LtuYL1egRpOk"
      },
      "execution_count": 9,
      "outputs": []
    },
    {
      "cell_type": "code",
      "source": [
        "# Create an instance of the embeddings class\n",
        "embeddings = Embeddings({'method': 'transformers', 'path': 'sentence-transformers/nli-mpnet-base-v2'})"
      ],
      "metadata": {
        "id": "47r3MhM2NIq3"
      },
      "execution_count": 10,
      "outputs": []
    },
    {
      "cell_type": "code",
      "source": [
        "# creating a function where file uploaded is preprocessed and the similarity algorithm is applied\n",
        "\n",
        "def semantic_search(query, file):\n",
        "  with open(file.name, \"r\") as f:\n",
        "        lines = f.readlines()\n",
        "        sentences = [line.strip() for line in lines if line.strip()]\n",
        "  uid = embeddings.similarity(query, sentences)[0][0]\n",
        "  embeddings.index(\n",
        "    [(uid, text, None) for uid, text in enumerate(sentences)])  # creating an index for the data previously created\n",
        "  embeddings.save('index')  # saving our index\n",
        "  return sentences[uid] # returning the most similar sentence"
      ],
      "metadata": {
        "id": "vWsDKmQDNmUH"
      },
      "execution_count": 11,
      "outputs": []
    },
    {
      "cell_type": "code",
      "source": [
        "# Define the input interface\n",
        "query_input = gradio.inputs.Textbox(label = 'How can we help', placeholder = \"Enter your query here\")\n",
        "file_input = gradio.inputs.File(label=\"Upload a Text File\")\n",
        "\n",
        "# Define the output interface\n",
        "output_text = gradio.outputs.Textbox(label=\"Top Matching Result\")\n",
        "# Define the Gradio interface\n",
        "gradio.Interface(semantic_search, \n",
        "                 inputs=[query_input, file_input], \n",
        "                 outputs=output_text,\n",
        "                 title=\"SARAL - The Modern Semantic Search Engine\",\n",
        "                 description=\"Upload a text file and search for relevant sentences using a query.\",\n",
        "                 article=\"This is a demo for the SARAL semantic search engine. SARAL can be used to search for relevant sentences in a given text file using natural language queries. The interface allows users to upload a text file, enter a query, and view the matching sentence. SARAL is powered by the txtai library and the sentence-transformers model.\",\n",
        "                 examples=[\n",
        "        [\"What is the capital of India?\"],\n",
        "        [\"Who won the Nobel Prize for Physics in 2020?\"],\n",
        "        [\"What is the highest mountain in the world?\"],\n",
        "    ]).launch(share = True)\n"
      ],
      "metadata": {
        "colab": {
          "base_uri": "https://localhost:8080/",
          "height": 1000
        },
        "id": "O195lTEqHdfj",
        "outputId": "16a77c1a-dfb4-4d40-8254-697dec1371cd"
      },
      "execution_count": 12,
      "outputs": [
        {
          "output_type": "stream",
          "name": "stderr",
          "text": [
            "/usr/local/lib/python3.10/dist-packages/gradio/inputs.py:27: UserWarning: Usage of gradio.inputs is deprecated, and will not be supported in the future, please import your component from gradio.components\n",
            "  warnings.warn(\n",
            "/usr/local/lib/python3.10/dist-packages/gradio/deprecation.py:40: UserWarning: `optional` parameter is deprecated, and it has no effect\n",
            "  warnings.warn(value)\n",
            "/usr/local/lib/python3.10/dist-packages/gradio/deprecation.py:40: UserWarning: `numeric` parameter is deprecated, and it has no effect\n",
            "  warnings.warn(value)\n",
            "/usr/local/lib/python3.10/dist-packages/gradio/inputs.py:349: UserWarning: Usage of gradio.inputs is deprecated, and will not be supported in the future, please import your components from gradio.components\n",
            "  warnings.warn(\n",
            "/usr/local/lib/python3.10/dist-packages/gradio/deprecation.py:40: UserWarning: `keep_filename` parameter is deprecated, and it has no effect\n",
            "  warnings.warn(value)\n",
            "/usr/local/lib/python3.10/dist-packages/gradio/outputs.py:22: UserWarning: Usage of gradio.outputs is deprecated, and will not be supported in the future, please import your components from gradio.components\n",
            "  warnings.warn(\n"
          ]
        },
        {
          "output_type": "stream",
          "name": "stdout",
          "text": [
            "Colab notebook detected. To show errors in colab notebook, set debug=True in launch()\n"
          ]
        },
        {
          "output_type": "stream",
          "name": "stderr",
          "text": [
            "Traceback (most recent call last):\n",
            "  File \"/usr/local/lib/python3.10/dist-packages/gradio/routes.py\", line 414, in run_predict\n",
            "    output = await app.get_blocks().process_api(\n",
            "  File \"/usr/local/lib/python3.10/dist-packages/gradio/blocks.py\", line 1320, in process_api\n",
            "    result = await self.call_function(\n",
            "  File \"/usr/local/lib/python3.10/dist-packages/gradio/blocks.py\", line 1048, in call_function\n",
            "    prediction = await anyio.to_thread.run_sync(\n",
            "  File \"/usr/local/lib/python3.10/dist-packages/anyio/to_thread.py\", line 31, in run_sync\n",
            "    return await get_asynclib().run_sync_in_worker_thread(\n",
            "  File \"/usr/local/lib/python3.10/dist-packages/anyio/_backends/_asyncio.py\", line 937, in run_sync_in_worker_thread\n",
            "    return await future\n",
            "  File \"/usr/local/lib/python3.10/dist-packages/anyio/_backends/_asyncio.py\", line 867, in run\n",
            "    result = context.run(func, *args)\n",
            "  File \"<ipython-input-6-b24485b1b87c>\", line 8, in semantic_search\n",
            "    embeddings.save('index')  # saving our index\n",
            "  File \"/usr/local/lib/python3.10/dist-packages/txtai/embeddings/base.py\", line 551, in save\n",
            "    self.ann.save(f\"{path}/embeddings\")\n",
            "AttributeError: 'NoneType' object has no attribute 'save'\n"
          ]
        },
        {
          "output_type": "stream",
          "name": "stdout",
          "text": [
            "Running on public URL: https://097b4f32571c346bbb.gradio.live\n",
            "\n",
            "This share link expires in 72 hours. For free permanent hosting and GPU upgrades (NEW!), check out Spaces: https://huggingface.co/spaces\n"
          ]
        },
        {
          "output_type": "display_data",
          "data": {
            "text/plain": [
              "<IPython.core.display.HTML object>"
            ],
            "text/html": [
              "<div><iframe src=\"https://097b4f32571c346bbb.gradio.live\" width=\"100%\" height=\"500\" allow=\"autoplay; camera; microphone; clipboard-read; clipboard-write;\" frameborder=\"0\" allowfullscreen></iframe></div>"
            ]
          },
          "metadata": {}
        },
        {
          "output_type": "execute_result",
          "data": {
            "text/plain": []
          },
          "metadata": {},
          "execution_count": 12
        }
      ]
    },
    {
      "cell_type": "code",
      "source": [],
      "metadata": {
        "id": "oAoWP985MgJd"
      },
      "execution_count": 5,
      "outputs": []
    }
  ]
}